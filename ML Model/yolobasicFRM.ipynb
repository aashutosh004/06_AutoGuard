{
 "cells": [
  {
   "cell_type": "code",
   "execution_count": null,
   "id": "f74d1f03-c51e-42d0-b3df-657702941e02",
   "metadata": {},
   "outputs": [],
   "source": [
    "from ultralytics import YOLO\n",
    "\n",
    "model = YOLO('best.pt')\n",
    "\n",
    "results = model.predict(source=r'C:\\Users\\Ashutosh Sharma\\Downloads\\WhatsApp Image 2024-03-06 at 21.11.03_91c1fbe5.jpg',conf=0.10,save=True)\n",
    "\n",
    "print(results)"
   ]
  }
 ],
 "metadata": {
  "kernelspec": {
   "display_name": "GG_1760",
   "language": "python",
   "name": "gg_1760"
  },
  "language_info": {
   "codemirror_mode": {
    "name": "ipython",
    "version": 3
   },
   "file_extension": ".py",
   "mimetype": "text/x-python",
   "name": "python",
   "nbconvert_exporter": "python",
   "pygments_lexer": "ipython3",
   "version": "3.9.18"
  }
 },
 "nbformat": 4,
 "nbformat_minor": 5
}
