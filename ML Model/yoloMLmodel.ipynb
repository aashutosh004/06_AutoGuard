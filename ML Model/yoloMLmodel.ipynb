{
 "cells": [
  {
   "cell_type": "code",
   "execution_count": null,
   "id": "c5a48c88-56d9-4777-9594-b1e18ed2ec8b",
   "metadata": {},
   "outputs": [],
   "source": [
    "import cv2\n",
    "import mediapipe as mp\n",
    "from ultralytics import YOLO\n",
    "\n",
    "model_yolo = YOLO('best.pt') \n",
    "\n",
    "mp_pose = mp.solutions.pose\n",
    "pose = mp_pose.Pose()\n",
    "\n",
    "cap = cv2.VideoCapture(0)\n",
    "\n",
    "while True:\n",
    "    \n",
    "    ret, frame = cap.read()\n",
    "\n",
    "    results_yolo = model_yolo(frame) \n",
    "\n",
    "    if isinstance(results_yolo, list) and results_yolo:\n",
    "\n",
    "        results_yolo = results_yolo[0]  \n",
    "\n",
    "    if results_yolo.boxes is not None:\n",
    "        for det in results_yolo.boxes.data.numpy(): \n",
    "            label = int(det[4])\n",
    "            confidence = det[5]\n",
    "            bbox = det[:4]\n",
    "\n",
    "            cv2.rectangle(frame, (int(bbox[0]), int(bbox[1])), (int(bbox[2]), int(bbox[3])), (0, 255, 0), 2)\n",
    "            cv2.putText(frame, f'{model_yolo.names[label]}: {confidence:.2f}', (int(bbox[0]), int(bbox[1]) - 5),\n",
    "                        cv2.FONT_HERSHEY_SIMPLEX, 0.5, (0, 255, 0), 2)\n",
    "\n",
    "    frame_rgb = cv2.cvtColor(frame, cv2.COLOR_BGR2RGB)\n",
    "    results_pose = pose.process(frame_rgb)\n",
    "\n",
    "    if results_pose.pose_landmarks:\n",
    "        for landmark in results_pose.pose_landmarks.landmark:\n",
    "            h, w, _ = frame.shape\n",
    "            cx, cy = int(landmark.x * w), int(landmark.y * h)\n",
    "            cv2.circle(frame, (cx, cy), 5, (255, 0, 0), -1)\n",
    "\n",
    "    cv2.imshow('Real-time Monitoring', frame)\n",
    "\n",
    "    if cv2.waitKey(1) & 0xFF == ord('q'):\n",
    "        break\n",
    "\n",
    "cap.release()\n",
    "cv2.destroyAllWindows()"
   ]
  }
 ],
 "metadata": {
  "kernelspec": {
   "display_name": "GG_1760",
   "language": "python",
   "name": "gg_1760"
  },
  "language_info": {
   "codemirror_mode": {
    "name": "ipython",
    "version": 3
   },
   "file_extension": ".py",
   "mimetype": "text/x-python",
   "name": "python",
   "nbconvert_exporter": "python",
   "pygments_lexer": "ipython3",
   "version": "3.9.18"
  }
 },
 "nbformat": 4,
 "nbformat_minor": 5
}
